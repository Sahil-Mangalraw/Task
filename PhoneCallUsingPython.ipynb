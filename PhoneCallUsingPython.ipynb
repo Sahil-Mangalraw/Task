{
 "cells": [
  {
   "cell_type": "code",
   "execution_count": null,
   "id": "97585d64-7b5d-42f7-820f-d14ac40f3e33",
   "metadata": {},
   "outputs": [],
   "source": [
    "from twilio.rest import Client\n",
    "\n",
    "# Twilio credentials\n",
    "account_sid = 'AC032----------------97------------901'\n",
    "auth_token = 'b858----5-----------073'\n",
    "twilio_number = '+141------86'\n",
    "\n",
    "# Initialize Twilio client\n",
    "client = Client(account_sid, auth_token)\n",
    "\n",
    "# Make the call\n",
    "call = client.calls.create(\n",
    "    twiml='<Response><Say>Hi Sahil, this is a Python test call using Twilio.</Say></Response>',\n",
    "    from_=twilio_number,\n",
    "    to='+91954----------9'  # Receiver's phone number\n",
    ")\n"
   ]
  },
  {
   "cell_type": "code",
   "execution_count": null,
   "id": "8229c523-259f-414b-bd0a-d8ff69fd6683",
   "metadata": {},
   "outputs": [],
   "source": []
  }
 ],
 "metadata": {
  "kernelspec": {
   "display_name": "Python [conda env:base] *",
   "language": "python",
   "name": "conda-base-py"
  },
  "language_info": {
   "codemirror_mode": {
    "name": "ipython",
    "version": 3
   },
   "file_extension": ".py",
   "mimetype": "text/x-python",
   "name": "python",
   "nbconvert_exporter": "python",
   "pygments_lexer": "ipython3",
   "version": "3.12.7"
  }
 },
 "nbformat": 4,
 "nbformat_minor": 5
}
