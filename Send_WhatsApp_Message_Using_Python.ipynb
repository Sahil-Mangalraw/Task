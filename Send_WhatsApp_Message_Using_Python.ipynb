{
 "cells": [
  {
   "cell_type": "code",
   "execution_count": 9,
   "id": "2f704add-ac62-49a4-ac6a-0432ba9af98c",
   "metadata": {},
   "outputs": [],
   "source": [
    "import pywhatkit"
   ]
  },
  {
   "cell_type": "code",
   "execution_count": null,
   "id": "dde59ae1-532d-464e-b53e-4c1b30f8edb9",
   "metadata": {},
   "outputs": [
    {
     "name": "stdout",
     "output_type": "stream",
     "text": [
      "In 82244 Seconds WhatsApp will open and after 15 Seconds Message will be Delivered!\n"
     ]
    }
   ],
   "source": [
    "# Format: phone_number, message, hour, minute (24-hour format)\n",
    "pywhatkit.sendwhatmsg(\"+919549629329\", \"Hello, this is a message from Python!\", 22, 30)"
   ]
  },
  {
   "cell_type": "code",
   "execution_count": null,
   "id": "547bd759-51ba-4364-be3b-91095a1b647d",
   "metadata": {},
   "outputs": [],
   "source": []
  }
 ],
 "metadata": {
  "kernelspec": {
   "display_name": "Python [conda env:base] *",
   "language": "python",
   "name": "conda-base-py"
  },
  "language_info": {
   "codemirror_mode": {
    "name": "ipython",
    "version": 3
   },
   "file_extension": ".py",
   "mimetype": "text/x-python",
   "name": "python",
   "nbconvert_exporter": "python",
   "pygments_lexer": "ipython3",
   "version": "3.12.7"
  }
 },
 "nbformat": 4,
 "nbformat_minor": 5
}
