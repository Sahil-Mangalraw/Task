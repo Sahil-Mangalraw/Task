{
 "cells": [
  {
   "cell_type": "code",
   "execution_count": 8,
   "id": "98694c4b-ea7a-4cb2-ba7d-f88cd3d3cae2",
   "metadata": {},
   "outputs": [
    {
     "data": {
      "text/plain": [
       "Media(pk=3676321760483256253, id='3676321760483256253_73791889789', code='DME6ynFpKe9', taken_at=datetime.datetime(2025, 7, 14, 5, 42, 6, tzinfo=TzInfo(UTC)), media_type=1, image_versions2=SharedMediaImageVersions(additional_candidates=None, candidates=[SharedMediaImageCandidate(estimated_scans_sizes=[15195, 30391, 45587, 60783, 75978, 85020, 108191, 122965, 136762], height=1024, scans_profile='e35', url='https://instagram.fjai6-1.fna.fbcdn.net/v/t51.2885-15/518726761_17857835892457790_6737761952688455185_n.jpg?se=7&stp=dst-jpg_e35_tt6&efg=eyJ2ZW5jb2RlX3RhZyI6IkZFRUQuaW1hZ2VfdXJsZ2VuLjEwMjR4MTAyNC5zZHIuZjgyNzg3LmRlZmF1bHRfaW1hZ2UifQ&_nc_ht=instagram.fjai6-1.fna.fbcdn.net&_nc_cat=102&_nc_oc=Q6cZ2QF5NM6glkQhDH97Z3hShuCiaNvp3eGItLRlxCoSI-FAQw0AB0tJ83LKYZoYROsWrj0MP30YI1zBpMl8WlKPz1Hb&_nc_ohc=MdzTlKTbQ2MQ7kNvwE3juIS&_nc_gid=3nUj5yZTT_lTOoIiGK9GWg&edm=ACqnv0EBAAAA&ccb=7-5&ig_cache_key=MzY3NjMyMTc2MDQ4MzI1NjI1Mw%3D%3D.3-ccb7-5&oh=00_AfR15UBOSuSjXEbYLeivW-tl7HrN4mz-Iree2Kq9-k_HmQ&oe=687A697B&_nc_sid=7698e5', width=1024), SharedMediaImageCandidate(estimated_scans_sizes=[2906, 5812, 8719, 11625, 14532, 17496, 504912, 26158, 26158], height=360, scans_profile='e35', url='https://instagram.fjai6-1.fna.fbcdn.net/v/t51.2885-15/518726761_17857835892457790_6737761952688455185_n.jpg?stp=dst-jpg_e35_s360x360_tt6&efg=eyJ2ZW5jb2RlX3RhZyI6IkZFRUQuaW1hZ2VfdXJsZ2VuLjEwMjR4MTAyNC5zZHIuZjgyNzg3LmRlZmF1bHRfaW1hZ2UifQ&_nc_ht=instagram.fjai6-1.fna.fbcdn.net&_nc_cat=102&_nc_oc=Q6cZ2QF5NM6glkQhDH97Z3hShuCiaNvp3eGItLRlxCoSI-FAQw0AB0tJ83LKYZoYROsWrj0MP30YI1zBpMl8WlKPz1Hb&_nc_ohc=MdzTlKTbQ2MQ7kNvwE3juIS&_nc_gid=3nUj5yZTT_lTOoIiGK9GWg&edm=ACqnv0EBAAAA&ccb=7-5&ig_cache_key=MzY3NjMyMTc2MDQ4MzI1NjI1Mw%3D%3D.3-ccb7-5&oh=00_AfRkNWsbFHCyp8itheDc0jJS5xL3Mju8ystLAJuNaiDgkw&oe=687A697B&_nc_sid=7698e5', width=360)], scrubber_spritesheet_info_candidates=None), product_type='feed', thumbnail_url=HttpUrl('https://instagram.fjai6-1.fna.fbcdn.net/v/t51.2885-15/518726761_17857835892457790_6737761952688455185_n.jpg?se=7&stp=dst-jpg_e35_tt6&efg=eyJ2ZW5jb2RlX3RhZyI6IkZFRUQuaW1hZ2VfdXJsZ2VuLjEwMjR4MTAyNC5zZHIuZjgyNzg3LmRlZmF1bHRfaW1hZ2UifQ&_nc_ht=instagram.fjai6-1.fna.fbcdn.net&_nc_cat=102&_nc_oc=Q6cZ2QF5NM6glkQhDH97Z3hShuCiaNvp3eGItLRlxCoSI-FAQw0AB0tJ83LKYZoYROsWrj0MP30YI1zBpMl8WlKPz1Hb&_nc_ohc=MdzTlKTbQ2MQ7kNvwE3juIS&_nc_gid=3nUj5yZTT_lTOoIiGK9GWg&edm=ACqnv0EBAAAA&ccb=7-5&ig_cache_key=MzY3NjMyMTc2MDQ4MzI1NjI1Mw%3D%3D.3-ccb7-5&oh=00_AfR15UBOSuSjXEbYLeivW-tl7HrN4mz-Iree2Kq9-k_HmQ&oe=687A697B&_nc_sid=7698e5'), location=None, user=UserShort(pk='73791889789', username='sahilmangalraw', full_name='Sahil Mangalraw', profile_pic_url=HttpUrl('https://instagram.fpat11-1.fna.fbcdn.net/v/t51.2885-19/464760996_1254146839119862_3605321457742435801_n.png?stp=dst-jpg_e0_s150x150_tt6&cb=8577c754-c2464923&_nc_ht=instagram.fpat11-1.fna.fbcdn.net&_nc_cat=1&_nc_oc=Q6cZ2QHcGNExu3Sw3FjeCWp5HYuwsK7s2uXGIljd0F6U__Dmx1rLXx0-cwmz-sMNLkC7yzij9gEcdk5mYIvFIWHdFSX9&_nc_ohc=cpuRypEf_aQQ7kNvwEbxEO4&_nc_gid=ATcBOHct3-HwaaqDjscSGg&edm=AAYDq1YBAAAA&ccb=7-5&ig_cache_key=YW5vbnltb3VzX3Byb2ZpbGVfcGlj.3-ccb7-5-cb8577c754-c2464923&oh=00_AfRUKn2HP4q89JOq4y6Va0Q3Tp6yPyRl-sNOpYUqo4ODDg&oe=687A62A8&_nc_sid=7f352c'), profile_pic_url_hd=None, is_private=False), comment_count=0, comments_disabled=False, commenting_disabled_for_viewer=False, like_count=0, play_count=0, has_liked=False, caption_text='Caption: Posted from Python 🚀', accessibility_caption=None, usertags=[], sponsor_tags=[], video_url=None, view_count=0, video_duration=0.0, title='', resources=[], clips_metadata=None)"
      ]
     },
     "execution_count": 8,
     "metadata": {},
     "output_type": "execute_result"
    }
   ],
   "source": [
    "from instagrapi import Client\n",
    "\n",
    "cl = Client()\n",
    "cl.login(\"sa----l------w\", \"S------\")  # Enter actual IG login\n",
    "\n",
    "cl.photo_upload( \"insta.png\",\"Caption: Posted from Python 🚀\")"
   ]
  },
  {
   "cell_type": "code",
   "execution_count": 4,
   "id": "2f191d73-0bd5-4431-8e00-168c48266e65",
   "metadata": {},
   "outputs": [
    {
     "name": "stdout",
     "output_type": "stream",
     "text": [
      "Defaulting to user installation because normal site-packages is not writeable\n",
      "Collecting instagrapi\n",
      "  Downloading instagrapi-2.2.1-py3-none-any.whl.metadata (2.9 kB)\n",
      "Collecting requests==2.32.4 (from instagrapi)\n",
      "  Downloading requests-2.32.4-py3-none-any.whl.metadata (4.9 kB)\n",
      "Requirement already satisfied: PySocks==1.7.1 in c:\\programdata\\anaconda3\\lib\\site-packages (from instagrapi) (1.7.1)\n",
      "Collecting pydantic==2.11.7 (from instagrapi)\n",
      "  Downloading pydantic-2.11.7-py3-none-any.whl.metadata (67 kB)\n",
      "Collecting moviepy==1.0.3 (from instagrapi)\n",
      "  Downloading moviepy-1.0.3.tar.gz (388 kB)\n",
      "  Preparing metadata (setup.py): started\n",
      "  Preparing metadata (setup.py): finished with status 'done'\n",
      "Collecting pycryptodomex==3.23.0 (from instagrapi)\n",
      "  Downloading pycryptodomex-3.23.0-cp37-abi3-win_amd64.whl.metadata (3.5 kB)\n",
      "Collecting decorator<5.0,>=4.0.2 (from moviepy==1.0.3->instagrapi)\n",
      "  Downloading decorator-4.4.2-py2.py3-none-any.whl.metadata (4.2 kB)\n",
      "Requirement already satisfied: imageio<3.0,>=2.5 in c:\\programdata\\anaconda3\\lib\\site-packages (from moviepy==1.0.3->instagrapi) (2.33.1)\n",
      "Requirement already satisfied: imageio_ffmpeg>=0.2.0 in c:\\users\\dell\\appdata\\roaming\\python\\python312\\site-packages (from moviepy==1.0.3->instagrapi) (0.6.0)\n",
      "Requirement already satisfied: tqdm<5.0,>=4.11.2 in c:\\programdata\\anaconda3\\lib\\site-packages (from moviepy==1.0.3->instagrapi) (4.66.5)\n",
      "Requirement already satisfied: numpy>=1.17.3 in c:\\programdata\\anaconda3\\lib\\site-packages (from moviepy==1.0.3->instagrapi) (1.26.4)\n",
      "Requirement already satisfied: proglog<=1.0.0 in c:\\users\\dell\\appdata\\roaming\\python\\python312\\site-packages (from moviepy==1.0.3->instagrapi) (0.1.12)\n",
      "Requirement already satisfied: annotated-types>=0.6.0 in c:\\programdata\\anaconda3\\lib\\site-packages (from pydantic==2.11.7->instagrapi) (0.6.0)\n",
      "Collecting pydantic-core==2.33.2 (from pydantic==2.11.7->instagrapi)\n",
      "  Downloading pydantic_core-2.33.2-cp312-cp312-win_amd64.whl.metadata (6.9 kB)\n",
      "Collecting typing-extensions>=4.12.2 (from pydantic==2.11.7->instagrapi)\n",
      "  Downloading typing_extensions-4.14.1-py3-none-any.whl.metadata (3.0 kB)\n",
      "Collecting typing-inspection>=0.4.0 (from pydantic==2.11.7->instagrapi)\n",
      "  Downloading typing_inspection-0.4.1-py3-none-any.whl.metadata (2.6 kB)\n",
      "Requirement already satisfied: charset_normalizer<4,>=2 in c:\\programdata\\anaconda3\\lib\\site-packages (from requests==2.32.4->instagrapi) (3.3.2)\n",
      "Requirement already satisfied: idna<4,>=2.5 in c:\\programdata\\anaconda3\\lib\\site-packages (from requests==2.32.4->instagrapi) (3.7)\n",
      "Requirement already satisfied: urllib3<3,>=1.21.1 in c:\\programdata\\anaconda3\\lib\\site-packages (from requests==2.32.4->instagrapi) (2.2.3)\n",
      "Requirement already satisfied: certifi>=2017.4.17 in c:\\programdata\\anaconda3\\lib\\site-packages (from requests==2.32.4->instagrapi) (2025.4.26)\n",
      "Requirement already satisfied: pillow>=8.3.2 in c:\\programdata\\anaconda3\\lib\\site-packages (from imageio<3.0,>=2.5->moviepy==1.0.3->instagrapi) (10.4.0)\n",
      "Requirement already satisfied: colorama in c:\\programdata\\anaconda3\\lib\\site-packages (from tqdm<5.0,>=4.11.2->moviepy==1.0.3->instagrapi) (0.4.6)\n",
      "Downloading instagrapi-2.2.1-py3-none-any.whl (124 kB)\n",
      "Downloading pycryptodomex-3.23.0-cp37-abi3-win_amd64.whl (1.8 MB)\n",
      "   ---------------------------------------- 0.0/1.8 MB ? eta -:--:--\n",
      "   ---------------------------------------- 1.8/1.8 MB 14.1 MB/s eta 0:00:00\n",
      "Downloading pydantic-2.11.7-py3-none-any.whl (444 kB)\n",
      "Downloading requests-2.32.4-py3-none-any.whl (64 kB)\n",
      "Downloading pydantic_core-2.33.2-cp312-cp312-win_amd64.whl (2.0 MB)\n",
      "   ---------------------------------------- 0.0/2.0 MB ? eta -:--:--\n",
      "   ---------------------------------------- 2.0/2.0 MB 18.0 MB/s eta 0:00:00\n",
      "Downloading decorator-4.4.2-py2.py3-none-any.whl (9.2 kB)\n",
      "Downloading typing_extensions-4.14.1-py3-none-any.whl (43 kB)\n",
      "Downloading typing_inspection-0.4.1-py3-none-any.whl (14 kB)\n",
      "Building wheels for collected packages: moviepy\n",
      "  Building wheel for moviepy (setup.py): started\n",
      "  Building wheel for moviepy (setup.py): finished with status 'done'\n",
      "  Created wheel for moviepy: filename=moviepy-1.0.3-py3-none-any.whl size=110755 sha256=200cdcb725c7768630e0b1b3d478333871a1bc2a7e101c5cc954726397fdf1b1\n",
      "  Stored in directory: c:\\users\\dell\\appdata\\local\\pip\\cache\\wheels\\df\\ba\\4b\\0917fc0c8833c8ba7016565fc975b74c67bc8610806e930272\n",
      "Successfully built moviepy\n",
      "Installing collected packages: typing-extensions, requests, pycryptodomex, decorator, typing-inspection, pydantic-core, pydantic, moviepy, instagrapi\n",
      "  Attempting uninstall: moviepy\n",
      "    Found existing installation: moviepy 2.2.1\n",
      "    Uninstalling moviepy-2.2.1:\n",
      "      Successfully uninstalled moviepy-2.2.1\n",
      "Successfully installed decorator-4.4.2 instagrapi-2.2.1 moviepy-1.0.3 pycryptodomex-3.23.0 pydantic-2.11.7 pydantic-core-2.33.2 requests-2.32.4 typing-extensions-4.14.1 typing-inspection-0.4.1\n"
     ]
    },
    {
     "name": "stderr",
     "output_type": "stream",
     "text": [
      "ERROR: pip's dependency resolver does not currently take into account all the packages that are installed. This behaviour is the source of the following dependency conflicts.\n",
      "streamlit 1.37.1 requires protobuf<6,>=3.20, but you have protobuf 6.31.1 which is incompatible.\n"
     ]
    }
   ],
   "source": [
    "!pip install instagrapi"
   ]
  },
  {
   "cell_type": "code",
   "execution_count": null,
   "id": "4b4e545c-676d-4ab4-90af-a6563e7dc561",
   "metadata": {},
   "outputs": [],
   "source": []
  }
 ],
 "metadata": {
  "kernelspec": {
   "display_name": "Python [conda env:base] *",
   "language": "python",
   "name": "conda-base-py"
  },
  "language_info": {
   "codemirror_mode": {
    "name": "ipython",
    "version": 3
   },
   "file_extension": ".py",
   "mimetype": "text/x-python",
   "name": "python",
   "nbconvert_exporter": "python",
   "pygments_lexer": "ipython3",
   "version": "3.12.7"
  }
 },
 "nbformat": 4,
 "nbformat_minor": 5
}
