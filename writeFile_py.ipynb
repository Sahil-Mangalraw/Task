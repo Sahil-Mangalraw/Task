{
 "cells": [
  {
   "cell_type": "code",
   "execution_count": 5,
   "id": "e3a6fa81-e443-4e41-be97-e4b782529004",
   "metadata": {},
   "outputs": [],
   "source": [
    "with open(\"taskdata.txt\", \"w\")as file:\n",
    "    file.write(\"\\nSahil complete all task and do every thing \\n\")\n",
    "    \n",
    "    \n"
   ]
  },
  {
   "cell_type": "code",
   "execution_count": null,
   "id": "7d3a2175-743e-44e9-9cde-59390b0bff44",
   "metadata": {},
   "outputs": [],
   "source": []
  }
 ],
 "metadata": {
  "kernelspec": {
   "display_name": "Python [conda env:base] *",
   "language": "python",
   "name": "conda-base-py"
  },
  "language_info": {
   "codemirror_mode": {
    "name": "ipython",
    "version": 3
   },
   "file_extension": ".py",
   "mimetype": "text/x-python",
   "name": "python",
   "nbconvert_exporter": "python",
   "pygments_lexer": "ipython3",
   "version": "3.12.7"
  }
 },
 "nbformat": 4,
 "nbformat_minor": 5
}
