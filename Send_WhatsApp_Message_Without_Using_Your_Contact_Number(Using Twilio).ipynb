{
 "cells": [
  {
   "cell_type": "code",
   "execution_count": null,
   "id": "6436123a-8414-49da-a564-e5a5cba6268e",
   "metadata": {},
   "outputs": [],
   "source": []
  },
  {
   "cell_type": "code",
   "execution_count": 7,
   "id": "12d2af38-132a-4bbc-b1eb-b00e7e49e206",
   "metadata": {},
   "outputs": [
    {
     "name": "stdout",
     "output_type": "stream",
     "text": [
      "Message sent! surenda\n"
     ]
    }
   ],
   "source": [
    "from twilio.rest import Client\n",
    "\n",
    "# Twilio credentials\n",
    "account_sid = 'AC03207-------------f174901'\n",
    "auth_token = 'b858ec-------------------5069073'\n",
    "\n",
    "client = Client(account_sid, auth_token)\n",
    "\n",
    "# Send WhatsApp message\n",
    "message = client.messages.create(\n",
    "    body='Hello bro',\n",
    "    from_='whatsapp:+141------6',  # Twilio sandbox number\n",
    "    to='whatsapp:+917----------77'     # Receiver's number\n",
    ")\n",
    "\n",
    "print(\"Message sent! surenda\")\n"
   ]
  },
  {
   "cell_type": "code",
   "execution_count": null,
   "id": "ac7ac990-d083-409e-aa32-7b6d37cc1dc6",
   "metadata": {},
   "outputs": [],
   "source": []
  }
 ],
 "metadata": {
  "kernelspec": {
   "display_name": "Python [conda env:base] *",
   "language": "python",
   "name": "conda-base-py"
  },
  "language_info": {
   "codemirror_mode": {
    "name": "ipython",
    "version": 3
   },
   "file_extension": ".py",
   "mimetype": "text/x-python",
   "name": "python",
   "nbconvert_exporter": "python",
   "pygments_lexer": "ipython3",
   "version": "3.12.7"
  }
 },
 "nbformat": 4,
 "nbformat_minor": 5
}
