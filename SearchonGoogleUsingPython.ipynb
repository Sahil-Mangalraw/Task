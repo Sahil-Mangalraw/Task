{
 "cells": [
  {
   "cell_type": "code",
   "execution_count": 2,
   "id": "de9dfcab-908f-4574-91a2-16c75baa3501",
   "metadata": {},
   "outputs": [
    {
     "name": "stdout",
     "output_type": "stream",
     "text": [
      "1. https://spacelift.io/blog/devops-tools\n",
      "2. https://www.strongdm.com/blog/devops-tools\n",
      "3. https://octopus.com/devops/ci-cd/devops-tools/\n",
      "4. https://codefresh.io/learn/devops-tools/\n",
      "5. https://github.com/milanm/DevOps-Roadmap\n"
     ]
    }
   ],
   "source": [
    "from googlesearch import search\n",
    "\n",
    "query = \"latest DevOps tools in 2025\"\n",
    "\n",
    "for i, result in enumerate(search(query, num_results=5), 1):\n",
    "    print(f\"{i}. {result}\")"
   ]
  },
  {
   "cell_type": "code",
   "execution_count": null,
   "id": "eb1d209e-ec1a-49a7-aac2-38de6f7a816a",
   "metadata": {},
   "outputs": [],
   "source": []
  }
 ],
 "metadata": {
  "kernelspec": {
   "display_name": "Python [conda env:base] *",
   "language": "python",
   "name": "conda-base-py"
  },
  "language_info": {
   "codemirror_mode": {
    "name": "ipython",
    "version": 3
   },
   "file_extension": ".py",
   "mimetype": "text/x-python",
   "name": "python",
   "nbconvert_exporter": "python",
   "pygments_lexer": "ipython3",
   "version": "3.12.7"
  }
 },
 "nbformat": 4,
 "nbformat_minor": 5
}
