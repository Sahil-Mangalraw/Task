{
 "cells": [
  {
   "cell_type": "code",
   "execution_count": null,
   "id": "c9c1a710-946e-4fb2-9950-2c139399c94f",
   "metadata": {},
   "outputs": [],
   "source": [
    "\n"
   ]
  },
  {
   "cell_type": "code",
   "execution_count": 13,
   "id": "0b9fc650-3738-4dc4-b51c-6abfd349a543",
   "metadata": {},
   "outputs": [],
   "source": [
    "import smtplib"
   ]
  },
  {
   "cell_type": "code",
   "execution_count": 14,
   "id": "5425a41c-27b9-49d7-9ec5-cfd2e57d9d13",
   "metadata": {},
   "outputs": [],
   "source": [
    "from email.mime.text import MIMEText"
   ]
  },
  {
   "cell_type": "code",
   "execution_count": 16,
   "id": "3f4a032b-78cc-4dc4-87eb-c62dc44242db",
   "metadata": {},
   "outputs": [
    {
     "name": "stdin",
     "output_type": "stream",
     "text": [
      "Your Gmail:  mohitmangalraw@gmail.com\n"
     ]
    }
   ],
   "source": [
    "sender_email =input(\"Your Gmail: \")"
   ]
  },
  {
   "cell_type": "code",
   "execution_count": 31,
   "id": "b876e219-53c1-48fd-b2fc-85b922acd9e1",
   "metadata": {},
   "outputs": [
    {
     "name": "stdin",
     "output_type": "stream",
     "text": [
      "receiver Gmail:  sahilmangalraw.ar@gmail.com\n"
     ]
    }
   ],
   "source": [
    "receiver_email =input(\"receiver Gmail: \")"
   ]
  },
  {
   "cell_type": "code",
   "execution_count": 29,
   "id": "4b2a2c2f-f5a3-42de-bfb1-40d61fb953aa",
   "metadata": {},
   "outputs": [],
   "source": [
    "password = \"avdv jlik -------\""
   ]
  },
  {
   "cell_type": "code",
   "execution_count": 7,
   "id": "a451f359-ab76-4100-876e-af5a6ddf4d93",
   "metadata": {},
   "outputs": [
    {
     "name": "stdin",
     "output_type": "stream",
     "text": [
      "mymsg hello bro  good morning\n"
     ]
    }
   ],
   "source": [
    "message = MIMEText(input(\"mymsg\"))"
   ]
  },
  {
   "cell_type": "code",
   "execution_count": 17,
   "id": "085cd007-1ef6-4619-9804-1cbfa62e2a52",
   "metadata": {},
   "outputs": [],
   "source": [
    "message[\"Subject\"] = \"Test Email\"\n",
    "message[\"From\"] = sender_email\n",
    "message[\"To\"] = receiver_email\n"
   ]
  },
  {
   "cell_type": "code",
   "execution_count": 28,
   "id": "39936445-a66e-4afc-87ff-af6cbd7bf2ad",
   "metadata": {},
   "outputs": [
    {
     "name": "stdout",
     "output_type": "stream",
     "text": [
      "Email sent successfully sahilmangalraw.ar@gmail.com\n"
     ]
    }
   ],
   "source": [
    "with smtplib.SMTP_SSL(\"smtp.gmail.com\", 465) as server:\n",
    "    server.login(sender_email, password)\n",
    "    server.sendmail(sender_email, receiver_email, message.as_string())\n",
    "    print(f\"Email sent successfully {receiver_email}\")\n"
   ]
  },
  {
   "cell_type": "code",
   "execution_count": null,
   "id": "887ffb4d-af04-45e0-8227-fda402f460f0",
   "metadata": {},
   "outputs": [],
   "source": []
  }
 ],
 "metadata": {
  "kernelspec": {
   "display_name": "Python [conda env:base] *",
   "language": "python",
   "name": "conda-base-py"
  },
  "language_info": {
   "codemirror_mode": {
    "name": "ipython",
    "version": 3
   },
   "file_extension": ".py",
   "mimetype": "text/x-python",
   "name": "python",
   "nbconvert_exporter": "python",
   "pygments_lexer": "ipython3",
   "version": "3.12.7"
  }
 },
 "nbformat": 4,
 "nbformat_minor": 5
}
