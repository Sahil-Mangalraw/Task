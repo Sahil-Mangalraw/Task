{
 "cells": [
  {
   "cell_type": "code",
   "execution_count": 1,
   "id": "782070a2-caaa-48bf-90ed-6e690ea9bf79",
   "metadata": {},
   "outputs": [],
   "source": [
    "import psutil"
   ]
  },
  {
   "cell_type": "code",
   "execution_count": 2,
   "id": "867e9d80-38e4-455d-a215-b43884bfc875",
   "metadata": {},
   "outputs": [],
   "source": [
    "memory = psutil.virtual_memory()"
   ]
  },
  {
   "cell_type": "code",
   "execution_count": 3,
   "id": "d83a9cd8-0336-4d64-9ae5-1a33269bb595",
   "metadata": {},
   "outputs": [
    {
     "name": "stdout",
     "output_type": "stream",
     "text": [
      "Total RAM: 15.88 GB\n"
     ]
    }
   ],
   "source": [
    "print(f\"Total RAM: {memory.total / (1024**3):.2f} GB\")"
   ]
  },
  {
   "cell_type": "code",
   "execution_count": 4,
   "id": "28ea042e-cb38-4168-a738-a37ef714edea",
   "metadata": {},
   "outputs": [
    {
     "name": "stdout",
     "output_type": "stream",
     "text": [
      "Available RAM: 1.55 GB\n"
     ]
    }
   ],
   "source": [
    "print(f\"Available RAM: {memory.available / (1024**3):.2f} GB\")"
   ]
  },
  {
   "cell_type": "code",
   "execution_count": 6,
   "id": "a4d38234-676c-4580-b812-4336c8deabc2",
   "metadata": {},
   "outputs": [
    {
     "name": "stdout",
     "output_type": "stream",
     "text": [
      "Used RAM: 14.33 GB\n"
     ]
    }
   ],
   "source": [
    "print(f\"Used RAM: {memory.used / (1024**3):.2f} GB\")"
   ]
  },
  {
   "cell_type": "code",
   "execution_count": 8,
   "id": "93e5ba8b-bc7d-4589-bba1-1fd6c6b3d481",
   "metadata": {},
   "outputs": [
    {
     "name": "stdout",
     "output_type": "stream",
     "text": [
      "RAM Usage: 90.2%\n"
     ]
    }
   ],
   "source": [
    "print(f\"RAM Usage: {memory.percent}%\")"
   ]
  },
  {
   "cell_type": "code",
   "execution_count": null,
   "id": "d2b5996f-0bce-40c5-89b6-c89d182533f5",
   "metadata": {},
   "outputs": [],
   "source": []
  }
 ],
 "metadata": {
  "kernelspec": {
   "display_name": "Python [conda env:base] *",
   "language": "python",
   "name": "conda-base-py"
  },
  "language_info": {
   "codemirror_mode": {
    "name": "ipython",
    "version": 3
   },
   "file_extension": ".py",
   "mimetype": "text/x-python",
   "name": "python",
   "nbconvert_exporter": "python",
   "pygments_lexer": "ipython3",
   "version": "3.12.7"
  }
 },
 "nbformat": 4,
 "nbformat_minor": 5
}
