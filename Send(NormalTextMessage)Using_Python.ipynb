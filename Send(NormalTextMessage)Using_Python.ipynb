{
 "cells": [
  {
   "cell_type": "code",
   "execution_count": null,
   "id": "1028697e-6f9b-4bd9-8cfc-2d7803101c25",
   "metadata": {},
   "outputs": [],
   "source": [
    "from twilio.rest import Client\n",
    "\n",
    "# Your Twilio credentials\n",
    "account_sid = '--------------------'\n",
    "auth_token = '-------------------'\n",
    "twilio_number = '+1-----------'  # Your Twilio phone number\n",
    "\n",
    "# Initialize client\n",
    "client = Client(account_sid, auth_token)\n",
    "\n",
    "# Send SMS\n",
    "message = client.messages.create(\n",
    "    body='Hello! This is a normal text message from Python.',\n",
    "    from_=twilio_number,\n",
    "    to='+91-------------'  # Receiver's number\n",
    ")\n",
    "\n",
    "print(\"Message SID:\", message.sid)\n"
   ]
  }
 ],
 "metadata": {
  "kernelspec": {
   "display_name": "Python [conda env:base] *",
   "language": "python",
   "name": "conda-base-py"
  },
  "language_info": {
   "codemirror_mode": {
    "name": "ipython",
    "version": 3
   },
   "file_extension": ".py",
   "mimetype": "text/x-python",
   "name": "python",
   "nbconvert_exporter": "python",
   "pygments_lexer": "ipython3",
   "version": "3.12.7"
  }
 },
 "nbformat": 4,
 "nbformat_minor": 5
}
